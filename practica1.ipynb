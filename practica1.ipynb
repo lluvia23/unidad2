{
  "nbformat": 4,
  "nbformat_minor": 0,
  "metadata": {
    "colab": {
      "provenance": [],
      "authorship_tag": "ABX9TyPqAxWWflpeMPO8bXTCD74y",
      "include_colab_link": true
    },
    "kernelspec": {
      "name": "python3",
      "display_name": "Python 3"
    },
    "language_info": {
      "name": "python"
    }
  },
  "cells": [
    {
      "cell_type": "markdown",
      "metadata": {
        "id": "view-in-github",
        "colab_type": "text"
      },
      "source": [
        "<a href=\"https://colab.research.google.com/github/lluvia23/unidad2/blob/main/practica1.ipynb\" target=\"_parent\"><img src=\"https://colab.research.google.com/assets/colab-badge.svg\" alt=\"Open In Colab\"/></a>"
      ]
    },
    {
      "cell_type": "markdown",
      "source": [
        "¿que es pandas en python?\n",
        "\n",
        "pandas es una libreria o biblioteca de python que se utiliza para trabajar con conjuntos de datos,tiene funciones para analizar,limpiar,explorar y manipular datos\n",
        "el nombre pandas hace referencia a panel data y python data, fue creado en 2008\n",
        "\n",
        "¿porque utilizar pandas?\n",
        "\n",
        "pandas nos permite analizar big data y sacar conclusiones basadas en   teorias estadisticas. los pandas pueden limpiar conjuntos de datos desordenados y hacerlos legibles y relevantes, son muy importantes en las ciencia de datos\n",
        "\n",
        "¿que podemos hacer con pandas?\n",
        "\n",
        "1- saber si existe correlacion entre 2 o mas columnas\n",
        "\n",
        "2- cual es el valor minimo\n",
        "\n",
        "3-valor maximo\n",
        "\n",
        "4-cual es elvalor promedio\n",
        "\n",
        "pandas tambien puede eliminar filas que no son relevantes o que contiene errores como valores vacios,esto se llama limpieza de datos\n",
        "\n",
        "instalacion de pandas\n",
        "\n",
        "si tienes python y pip instalado en un sistema,instalalo usando el siguiente comando:\n",
        "\n",
        "pip install pandas\n",
        "\n",
        "si este comando falla ,utiliza una distribucion de python que ya tenga pandas instalado\n",
        "\n",
        "importar pandas\n",
        "\n",
        "una vez instalado pandas importalo a tus aplicaciones usando la palabra clave para importar:\n"
      ],
      "metadata": {
        "id": "gNS8_V_mSo_Q"
      }
    },
    {
      "cell_type": "code",
      "source": [
        "import pandas"
      ],
      "metadata": {
        "id": "7rjo-NRqYKb_"
      },
      "execution_count": 1,
      "outputs": []
    },
    {
      "cell_type": "markdown",
      "source": [
        "ahora pandas esta importado y listo para usar\n",
        "\n",
        "pandas como pd\n",
        "\n",
        "crea un alias con la palabra as al importar pandas\n",
        "\n",
        "elemplo:\n"
      ],
      "metadata": {
        "id": "Z1eaStmvYPnG"
      }
    },
    {
      "cell_type": "code",
      "source": [
        "import pandas as pd"
      ],
      "metadata": {
        "id": "9Pu4IzJqYmBO"
      },
      "execution_count": 2,
      "outputs": []
    },
    {
      "cell_type": "markdown",
      "source": [
        "ahora el paquete pandas puede denominarse pd en lugar de pandas\n",
        "\n",
        "comprobando la version se almacena en el atributo:\n",
        "\n",
        "_ _version_ _\n",
        "\n",
        "ejemplo:"
      ],
      "metadata": {
        "id": "Pv4dzBRPYpym"
      }
    },
    {
      "cell_type": "code",
      "source": [
        "import pandas as pd\n",
        "print(pd.__version__)"
      ],
      "metadata": {
        "colab": {
          "base_uri": "https://localhost:8080/"
        },
        "id": "uDOrrN73ZPDG",
        "outputId": "0dc25eb7-bf52-4487-865b-741d3a3c7f93"
      },
      "execution_count": 3,
      "outputs": [
        {
          "output_type": "stream",
          "name": "stdout",
          "text": [
            "2.2.2\n"
          ]
        }
      ]
    },
    {
      "cell_type": "markdown",
      "source": [
        "ejercicio:\n",
        "\n",
        "¿cual de las siguientes 3 opciones es la bibloteca oficial de pandas?\n",
        "\n",
        "1) import p\n",
        "\n",
        "2) import pandas\n",
        "\n",
        "3) import pan\n",
        "\n",
        "respuesta correcta: import pandas\n",
        "\n",
        "panda series\n",
        "\n",
        "¿que es una serie?\n",
        "\n",
        "una serie es como una columna en una tabla. es una matriz unidimensional que contiene datos de cualquier  tipo\n",
        "\n",
        "ejemplo:"
      ],
      "metadata": {
        "id": "pkgKBh8dZi8O"
      }
    },
    {
      "cell_type": "code",
      "source": [
        "import pandas as pd\n",
        "a=[1,7,2]\n",
        "myvar=pd.Series(a)\n",
        "print(myvar)"
      ],
      "metadata": {
        "colab": {
          "base_uri": "https://localhost:8080/"
        },
        "id": "GNjmFmwNauut",
        "outputId": "e7aedfe5-3e21-4fbf-df2d-130a87417538"
      },
      "execution_count": 4,
      "outputs": [
        {
          "output_type": "stream",
          "name": "stdout",
          "text": [
            "0    1\n",
            "1    7\n",
            "2    2\n",
            "dtype: int64\n"
          ]
        }
      ]
    },
    {
      "cell_type": "markdown",
      "source": [
        "etiquetas\n",
        "\n",
        "si no se especifica nadamas, los valores se etiquetan con su numero de indice.el primer valor tiene un indice 0,el segundo tiene el indice 1, etc\n",
        "\n",
        "esta etiqueta se puede utilizar para acceder a un valor especifico"
      ],
      "metadata": {
        "id": "A8NtZ3lpa2Lt"
      }
    },
    {
      "cell_type": "code",
      "source": [
        "print(myvar[0])"
      ],
      "metadata": {
        "colab": {
          "base_uri": "https://localhost:8080/"
        },
        "id": "DLgcsKb9bthl",
        "outputId": "8ef31cef-2462-42d0-a838-0646e3bd5e08"
      },
      "execution_count": 5,
      "outputs": [
        {
          "output_type": "stream",
          "name": "stdout",
          "text": [
            "1\n"
          ]
        }
      ]
    },
    {
      "cell_type": "markdown",
      "source": [
        "crear etiquetas\n",
        "\n",
        "con el argumento index,podemos nombrar nuestras propias etiquetas\n",
        "\n",
        "ejemplo: crea tus propias etiquetas"
      ],
      "metadata": {
        "id": "egWx5-7icCH9"
      }
    },
    {
      "cell_type": "code",
      "source": [
        "import pandas as pd\n",
        "a=[1,7,2]\n",
        "myvar=pd.Series(a,index=[\"x\",\"y\",\"z\"])\n",
        "print(myvar)"
      ],
      "metadata": {
        "colab": {
          "base_uri": "https://localhost:8080/"
        },
        "id": "kqqOszpoczYU",
        "outputId": "c1eb450b-ca89-47d8-f0b9-4c80fa46b791"
      },
      "execution_count": 12,
      "outputs": [
        {
          "output_type": "stream",
          "name": "stdout",
          "text": [
            "x    1\n",
            "y    7\n",
            "z    2\n",
            "dtype: int64\n"
          ]
        }
      ]
    },
    {
      "cell_type": "markdown",
      "source": [
        "cuando hayamos creado etiquetas podemos accceder a un elemento haciendo referencia a su etiqueta podemos acceder a un elemento haciendo referencia a su etiqueta\n",
        "ejemplo: devuelve el valor de y"
      ],
      "metadata": {
        "id": "0e29lXHvdLvc"
      }
    },
    {
      "cell_type": "code",
      "source": [
        "print(myvar[\"y\"])"
      ],
      "metadata": {
        "colab": {
          "base_uri": "https://localhost:8080/"
        },
        "id": "I1maMhY6eIKk",
        "outputId": "722caa07-846a-45f1-b8d0-72cd3f635f52"
      },
      "execution_count": 13,
      "outputs": [
        {
          "output_type": "stream",
          "name": "stdout",
          "text": [
            "7\n"
          ]
        }
      ]
    },
    {
      "cell_type": "markdown",
      "source": [
        "objetos clave/valor como serie\n",
        "\n",
        "tambien podemos utilizar un objeto clave/valor  como un diccionario al crear una serie\n",
        "\n",
        "ejemplo: crea una serie pandas basica apartir de un diccionario\n"
      ],
      "metadata": {
        "id": "ThvglTpueT3k"
      }
    },
    {
      "cell_type": "code",
      "source": [
        "import pandas as pd\n",
        "calorias = {\"dia1\":420,\"dia2\":380,\"dia3\":390}\n",
        "myvar=pd.Series(calorias)\n",
        "print(myvar)"
      ],
      "metadata": {
        "colab": {
          "base_uri": "https://localhost:8080/"
        },
        "id": "NiAH-0Abe9JE",
        "outputId": "bf20338a-fc7d-478f-dac1-5ba02674f120"
      },
      "execution_count": 16,
      "outputs": [
        {
          "output_type": "stream",
          "name": "stdout",
          "text": [
            "dia1    420\n",
            "dia2    380\n",
            "dia3    390\n",
            "dtype: int64\n"
          ]
        }
      ]
    },
    {
      "cell_type": "markdown",
      "source": [
        "nota: las claves del diccionario se convierta en etiquetas\n",
        "\n",
        "para selecccionar elementos del diccionario utilice el argumento index y especifique el elemento que desea incluir en la serie\n",
        "\n",
        "ejemplo:crea una serie solo utilizando los datos del dia 1 y el dia 2"
      ],
      "metadata": {
        "id": "EUmeHde7fbfz"
      }
    },
    {
      "cell_type": "code",
      "source": [
        "myvar=pd.Series(calorias,index=[\"dia1\",\"dia2\"])\n",
        "print(myvar)"
      ],
      "metadata": {
        "colab": {
          "base_uri": "https://localhost:8080/"
        },
        "id": "tmJfgvkSgO2D",
        "outputId": "08056937-a4dc-4ed1-e154-9351761191f8"
      },
      "execution_count": 18,
      "outputs": [
        {
          "output_type": "stream",
          "name": "stdout",
          "text": [
            "dia1    420\n",
            "dia2    380\n",
            "dtype: int64\n"
          ]
        }
      ]
    },
    {
      "cell_type": "markdown",
      "source": [
        "data frames\n",
        "\n",
        "los conjuntos de datos en pandas suelen ser tablas multidimensionales, llamada data frames.la serie es  como una columna\n",
        "un data frame es toda la tabla\n",
        "\n",
        "ejemplo: crea un data frame apartir de 2 series"
      ],
      "metadata": {
        "id": "AwlZ9sw0gffE"
      }
    },
    {
      "cell_type": "code",
      "source": [
        "import pandas as pd\n",
        "data={\"calorias\":[420,380,390],\"duracion\":[50,40,45]}\n",
        "myvar=pd.DataFrame(data)\n",
        "print(myvar)"
      ],
      "metadata": {
        "colab": {
          "base_uri": "https://localhost:8080/"
        },
        "id": "C9T378X0hGfL",
        "outputId": "cec6338b-91ed-446c-f085-7a84b6095b60"
      },
      "execution_count": 19,
      "outputs": [
        {
          "output_type": "stream",
          "name": "stdout",
          "text": [
            "   calorias  duracion\n",
            "0       420        50\n",
            "1       380        40\n",
            "2       390        45\n"
          ]
        }
      ]
    },
    {
      "cell_type": "markdown",
      "source": [
        "¿una serie es como una region en una tabla?\n",
        "\n",
        " respuesta: falso es solo una columna"
      ],
      "metadata": {
        "id": "wDwllR-ThKvj"
      }
    }
  ]
}