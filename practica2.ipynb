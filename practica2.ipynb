{
  "nbformat": 4,
  "nbformat_minor": 0,
  "metadata": {
    "colab": {
      "provenance": [],
      "authorship_tag": "ABX9TyPLRVXDnFvzxsNIUbo9wEUT",
      "include_colab_link": true
    },
    "kernelspec": {
      "name": "python3",
      "display_name": "Python 3"
    },
    "language_info": {
      "name": "python"
    }
  },
  "cells": [
    {
      "cell_type": "markdown",
      "metadata": {
        "id": "view-in-github",
        "colab_type": "text"
      },
      "source": [
        "<a href=\"https://colab.research.google.com/github/lluvia23/unidad2/blob/main/practica2.ipynb\" target=\"_parent\"><img src=\"https://colab.research.google.com/assets/colab-badge.svg\" alt=\"Open In Colab\"/></a>"
      ]
    },
    {
      "cell_type": "markdown",
      "source": [
        "lluvia guadalupe encinas juarez\n",
        "parctica 2 de pandas\n",
        " 7 de octubre de 2025\n",
        " -----------------\n",
        " dataframes de pandas\n",
        " ---------\n",
        " un dataframe es una estructura  de datos bidimensionales como una matriz o tabla con filas y columnas\n",
        " ---------\n",
        " ejemplo:crear un dataframe basico"
      ],
      "metadata": {
        "id": "7PKfTAq62f6q"
      }
    },
    {
      "cell_type": "code",
      "execution_count": null,
      "metadata": {
        "colab": {
          "base_uri": "https://localhost:8080/"
        },
        "id": "-iXHF9B52ZnL",
        "outputId": "605c57e4-1fc7-4abd-e4a1-cd0021cd24ab"
      },
      "outputs": [
        {
          "output_type": "stream",
          "name": "stdout",
          "text": [
            "   calorias  duracion\n",
            "0       420        50\n",
            "1       380        40\n",
            "2       390        45\n"
          ]
        }
      ],
      "source": [
        "import pandas as pd\n",
        "datos = {\n",
        "    'calorias': [ 420, 380, 390],\n",
        "    'duracion': [50, 40, 45]\n",
        "}\n",
        "#cargar datos dentro del DATAFRAME\n",
        "df = pd.DataFrame(datos)\n",
        "print(df)"
      ]
    },
    {
      "cell_type": "markdown",
      "source": [
        "localiza filas\n",
        "\n",
        "como puedes ver en el resultado anaterior, el dataframe es como una tabla con filas\n",
        "\n",
        "pandas usa el atributo \"loc\" para devolver una o mas filas especificas"
      ],
      "metadata": {
        "id": "4c53R0hK9kJx"
      }
    },
    {
      "cell_type": "code",
      "source": [
        "import pandas as pd\n",
        "datos = {\n",
        "    'calorias': [ 420, 380, 390],\n",
        "    'duracion': [50, 40, 45]\n",
        "}\n",
        "#cargar datos dentro del DATAFRAME\n",
        "df = pd.DataFrame(datos)\n",
        "print(df.loc[0])"
      ],
      "metadata": {
        "colab": {
          "base_uri": "https://localhost:8080/"
        },
        "id": "IHGJxgpw-OKR",
        "outputId": "8b31e6ad-5637-48ad-d584-342a5521905c"
      },
      "execution_count": 2,
      "outputs": [
        {
          "output_type": "stream",
          "name": "stdout",
          "text": [
            "calorias    420\n",
            "duracion     50\n",
            "Name: 0, dtype: int64\n"
          ]
        }
      ]
    },
    {
      "cell_type": "markdown",
      "source": [
        "ejercicio localiza la fila 1 y  2"
      ],
      "metadata": {
        "id": "lGgFWzap-aJJ"
      }
    },
    {
      "cell_type": "code",
      "source": [
        "import pandas as pd\n",
        "datos = {\n",
        "    'calorias': [ 420, 380, 390],\n",
        "    'duracion': [50, 40, 45]\n",
        "}\n",
        "#cargar datos dentro del DATAFRAME\n",
        "df = pd.DataFrame(datos)\n",
        "print(df.loc[[0,1]])"
      ],
      "metadata": {
        "colab": {
          "base_uri": "https://localhost:8080/"
        },
        "id": "lI_cEAti-oO5",
        "outputId": "7ed2d103-de3a-44f5-850e-ad931800399f"
      },
      "execution_count": 3,
      "outputs": [
        {
          "output_type": "stream",
          "name": "stdout",
          "text": [
            "   calorias  duracion\n",
            "0       420        50\n",
            "1       380        40\n"
          ]
        }
      ]
    },
    {
      "cell_type": "markdown",
      "source": [
        "  indices nombrados\n",
        "  -------\n",
        "  con el indice \"index\" puedes nombrar tus propios indices o etiquetas\n",
        "  ejemplo:agrega una lista de nombres para darle una etiqueta a cada fila"
      ],
      "metadata": {
        "id": "3J3KrROO-g2w"
      }
    },
    {
      "cell_type": "code",
      "source": [
        "import pandas as pd\n",
        "datos = {\n",
        "    'calorias': [ 420, 380, 390],\n",
        "    'duracion': [50, 40, 45]\n",
        "}\n",
        "#cargar datos dentro del dataframe\n",
        "df = pd.DataFrame(datos, index = [\"dia1\", \"dia2\", \"dia3\"])\n",
        "print(df)"
      ],
      "metadata": {
        "colab": {
          "base_uri": "https://localhost:8080/"
        },
        "id": "Fdb5RzO0_UJx",
        "outputId": "8b4f028b-3b91-4819-9e30-67b60912e3ef"
      },
      "execution_count": 4,
      "outputs": [
        {
          "output_type": "stream",
          "name": "stdout",
          "text": [
            "      calorias  duracion\n",
            "dia1       420        50\n",
            "dia2       380        40\n",
            "dia3       390        45\n"
          ]
        }
      ]
    },
    {
      "cell_type": "markdown",
      "source": [
        "localizar indices por el nombre o etiquetas\n",
        "\n",
        "utilice el atributo \"loc\" de localizar para devolver la(S) filas especificas\n",
        "ejemplo:devuelve la fila dia 2"
      ],
      "metadata": {
        "id": "AEGoQHmR_uG-"
      }
    },
    {
      "cell_type": "code",
      "source": [
        "import pandas as pd\n",
        "datos = {\n",
        "    'calorias': [ 420, 380, 390],\n",
        "    'duracion': [50, 40, 45]\n",
        "}\n",
        "#cargar los datos del dataframe\n",
        "df = pd.DataFrame(datos, index = [\"dia1\", \"dia2\", \"dia3\"])\n",
        "print(df.loc[\"dia2\"])"
      ],
      "metadata": {
        "colab": {
          "base_uri": "https://localhost:8080/"
        },
        "id": "rRKfcKAnAPJO",
        "outputId": "f66fbf83-7da6-40e8-f9ac-3433e567d163"
      },
      "execution_count": 7,
      "outputs": [
        {
          "output_type": "stream",
          "name": "stdout",
          "text": [
            "calorias    380\n",
            "duracion     40\n",
            "Name: dia2, dtype: int64\n"
          ]
        }
      ]
    }
  ]
}